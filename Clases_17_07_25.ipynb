{
  "nbformat": 4,
  "nbformat_minor": 0,
  "metadata": {
    "colab": {
      "provenance": [],
      "authorship_tag": "ABX9TyN55qeypbmG9LgVu/YUPN/5",
      "include_colab_link": true
    },
    "kernelspec": {
      "name": "python3",
      "display_name": "Python 3"
    },
    "language_info": {
      "name": "python"
    }
  },
  "cells": [
    {
      "cell_type": "markdown",
      "metadata": {
        "id": "view-in-github",
        "colab_type": "text"
      },
      "source": [
        "<a href=\"https://colab.research.google.com/github/wonejomcoesr/ejercicios_propuestos/blob/main/Clases_17_07_25.ipynb\" target=\"_parent\"><img src=\"https://colab.research.google.com/assets/colab-badge.svg\" alt=\"Open In Colab\"/></a>"
      ]
    },
    {
      "cell_type": "markdown",
      "source": [
        "**Tipos de datos**"
      ],
      "metadata": {
        "id": "_Br4ICwXgujQ"
      }
    },
    {
      "cell_type": "code",
      "execution_count": 1,
      "metadata": {
        "colab": {
          "base_uri": "https://localhost:8080/"
        },
        "id": "BvklESK1guCP",
        "outputId": "0f43c745-56de-4fae-d19e-9b559c93520e"
      },
      "outputs": [
        {
          "output_type": "execute_result",
          "data": {
            "text/plain": [
              "numpy.int64"
            ]
          },
          "metadata": {},
          "execution_count": 1
        }
      ],
      "source": [
        "import numpy as np\n",
        "#Enteros\n",
        "np.int64"
      ]
    },
    {
      "cell_type": "code",
      "source": [
        "#Decimales, flotantes\n",
        "np.float64"
      ],
      "metadata": {
        "colab": {
          "base_uri": "https://localhost:8080/"
        },
        "id": "2vDndBDphLhP",
        "outputId": "9fa9c91d-ea01-4e27-b68c-175457d1ca38"
      },
      "execution_count": 2,
      "outputs": [
        {
          "output_type": "execute_result",
          "data": {
            "text/plain": [
              "numpy.float64"
            ]
          },
          "metadata": {},
          "execution_count": 2
        }
      ]
    },
    {
      "cell_type": "code",
      "source": [
        "#Numeros complejos, variables complejas\n",
        "np.complex64"
      ],
      "metadata": {
        "colab": {
          "base_uri": "https://localhost:8080/"
        },
        "id": "4alDV7NFhcOP",
        "outputId": "4874d678-7190-4791-d058-b566a01e5fc3"
      },
      "execution_count": 3,
      "outputs": [
        {
          "output_type": "execute_result",
          "data": {
            "text/plain": [
              "numpy.complex64"
            ]
          },
          "metadata": {},
          "execution_count": 3
        }
      ]
    },
    {
      "cell_type": "code",
      "source": [
        "#Booleanos\n",
        "np.bool #tipo de dato antiguo\n",
        "np.bool_ #tipo de dato mas nuevo"
      ],
      "metadata": {
        "colab": {
          "base_uri": "https://localhost:8080/"
        },
        "id": "isLN09eaiquf",
        "outputId": "1f30e9db-49c0-484d-b968-bf72cb93f94d"
      },
      "execution_count": 4,
      "outputs": [
        {
          "output_type": "execute_result",
          "data": {
            "text/plain": [
              "numpy.bool"
            ]
          },
          "metadata": {},
          "execution_count": 4
        }
      ]
    },
    {
      "cell_type": "code",
      "source": [
        "#Objetos\n",
        "np.object_"
      ],
      "metadata": {
        "colab": {
          "base_uri": "https://localhost:8080/"
        },
        "id": "YDngfQWPjdXR",
        "outputId": "1166539e-cc17-44e4-cb2e-a7507cc37c2d"
      },
      "execution_count": 5,
      "outputs": [
        {
          "output_type": "execute_result",
          "data": {
            "text/plain": [
              "numpy.object_"
            ]
          },
          "metadata": {},
          "execution_count": 5
        }
      ]
    },
    {
      "cell_type": "code",
      "source": [
        "#Cadenas de texto\n",
        "np.strings"
      ],
      "metadata": {
        "colab": {
          "base_uri": "https://localhost:8080/"
        },
        "id": "-8Dm1bKhlk3D",
        "outputId": "e7fa84f1-8b45-49ad-8e32-6ee26cce989f"
      },
      "execution_count": 8,
      "outputs": [
        {
          "output_type": "execute_result",
          "data": {
            "text/plain": [
              "<module 'numpy.strings' from '/usr/local/lib/python3.11/dist-packages/numpy/strings/__init__.py'>"
            ]
          },
          "metadata": {},
          "execution_count": 8
        }
      ]
    },
    {
      "cell_type": "code",
      "source": [
        "#Bytes\n",
        "np.bytes_"
      ],
      "metadata": {
        "colab": {
          "base_uri": "https://localhost:8080/"
        },
        "id": "EIvrjwhKmLtz",
        "outputId": "dfb5d8ed-4748-4c8a-d265-a0cbdc418120"
      },
      "execution_count": 9,
      "outputs": [
        {
          "output_type": "execute_result",
          "data": {
            "text/plain": [
              "numpy.bytes_"
            ]
          },
          "metadata": {},
          "execution_count": 9
        }
      ]
    },
    {
      "cell_type": "markdown",
      "source": [
        "**Propiedades y caracteristicas de entornos**"
      ],
      "metadata": {
        "id": "P8qyNWW2mtxo"
      }
    },
    {
      "cell_type": "code",
      "source": [
        "#Codigo de la clase anterior, array_3d\n",
        "array_3d=np.array([(1,2,3),(4,5,6),(7,8,9)],dtype=np.double)\n",
        "array_3d\n"
      ],
      "metadata": {
        "colab": {
          "base_uri": "https://localhost:8080/"
        },
        "id": "LErwJoLVm37x",
        "outputId": "659b8811-5403-4c0e-9745-0d8e73129cfd"
      },
      "execution_count": 23,
      "outputs": [
        {
          "output_type": "execute_result",
          "data": {
            "text/plain": [
              "array([[1., 2., 3.],\n",
              "       [4., 5., 6.],\n",
              "       [7., 8., 9.]])"
            ]
          },
          "metadata": {},
          "execution_count": 23
        }
      ]
    },
    {
      "cell_type": "code",
      "source": [
        "#Array de 5 dimensiones\n",
        "array_5d = np.random.rand(2, 2, 3, 3, 5)"
      ],
      "metadata": {
        "id": "ihdqxRs3pgdS"
      },
      "execution_count": 33,
      "outputs": []
    },
    {
      "cell_type": "code",
      "source": [
        "#Muestra la dimension\n",
        "array_3d.shape"
      ],
      "metadata": {
        "colab": {
          "base_uri": "https://localhost:8080/"
        },
        "id": "Ml_jkbSandw_",
        "outputId": "c539b875-3a0e-4252-8f8c-092d5ad6e057"
      },
      "execution_count": 11,
      "outputs": [
        {
          "output_type": "execute_result",
          "data": {
            "text/plain": [
              "(3, 3)"
            ]
          },
          "metadata": {},
          "execution_count": 11
        }
      ]
    },
    {
      "cell_type": "code",
      "source": [
        "#Longitud de datos (solo muestra la longitud mayor)\n",
        "len(array_3d)"
      ],
      "metadata": {
        "colab": {
          "base_uri": "https://localhost:8080/"
        },
        "id": "h9Dnh_TanmDB",
        "outputId": "271ec3a4-a1ff-4088-a134-de57a4d79413"
      },
      "execution_count": 12,
      "outputs": [
        {
          "output_type": "execute_result",
          "data": {
            "text/plain": [
              "3"
            ]
          },
          "metadata": {},
          "execution_count": 12
        }
      ]
    },
    {
      "cell_type": "code",
      "source": [
        "#Numero de dimensiones\n",
        "array_5d.ndim"
      ],
      "metadata": {
        "colab": {
          "base_uri": "https://localhost:8080/"
        },
        "id": "5D7AEz83oIGA",
        "outputId": "e1bcf9f4-bcfe-4546-83c7-70053e21e7e2"
      },
      "execution_count": 34,
      "outputs": [
        {
          "output_type": "execute_result",
          "data": {
            "text/plain": [
              "5"
            ]
          },
          "metadata": {},
          "execution_count": 34
        }
      ]
    },
    {
      "cell_type": "code",
      "source": [
        "#Tipos de datos (ver el tipo de dato que se tiene)\n",
        "array_3d.dtype"
      ],
      "metadata": {
        "colab": {
          "base_uri": "https://localhost:8080/"
        },
        "id": "UqMfYEAhsWTI",
        "outputId": "46685557-4b4c-43ff-c576-a62306071931"
      },
      "execution_count": 35,
      "outputs": [
        {
          "output_type": "execute_result",
          "data": {
            "text/plain": [
              "dtype('float64')"
            ]
          },
          "metadata": {},
          "execution_count": 35
        }
      ]
    },
    {
      "cell_type": "code",
      "source": [
        "array_3d.dtype.name"
      ],
      "metadata": {
        "colab": {
          "base_uri": "https://localhost:8080/",
          "height": 35
        },
        "id": "cLZeQgufsvwy",
        "outputId": "a3ac902a-9bfc-4d9d-e49a-63c50547c34b"
      },
      "execution_count": 36,
      "outputs": [
        {
          "output_type": "execute_result",
          "data": {
            "text/plain": [
              "'float64'"
            ],
            "application/vnd.google.colaboratory.intrinsic+json": {
              "type": "string"
            }
          },
          "metadata": {},
          "execution_count": 36
        }
      ]
    },
    {
      "cell_type": "code",
      "source": [
        "#Convertir tipos de datos de float a int\n",
        "array_3d.astype(int)"
      ],
      "metadata": {
        "colab": {
          "base_uri": "https://localhost:8080/"
        },
        "id": "CxVx9FmBtFVR",
        "outputId": "8e926f9d-023f-4a30-b0d4-40b9abee570e"
      },
      "execution_count": 41,
      "outputs": [
        {
          "output_type": "execute_result",
          "data": {
            "text/plain": [
              "array([[1, 2, 3],\n",
              "       [4, 5, 6],\n",
              "       [7, 8, 9]])"
            ]
          },
          "metadata": {},
          "execution_count": 41
        }
      ]
    },
    {
      "cell_type": "markdown",
      "source": [
        "**Operadores matematicos**"
      ],
      "metadata": {
        "id": "ehqRzB1Wt5r4"
      }
    },
    {
      "cell_type": "code",
      "source": [
        "#Array de ejemplos\n",
        "array1=np.random.random((4,4))\n",
        "array1"
      ],
      "metadata": {
        "colab": {
          "base_uri": "https://localhost:8080/"
        },
        "id": "NMn348-GuIKy",
        "outputId": "96a7126c-d3c3-403f-b666-dc07613e0af6"
      },
      "execution_count": 42,
      "outputs": [
        {
          "output_type": "execute_result",
          "data": {
            "text/plain": [
              "array([[0.22629658, 0.92714114, 0.83236577, 0.33999192],\n",
              "       [0.7919004 , 0.84515726, 0.99752406, 0.82098996],\n",
              "       [0.46446017, 0.29550289, 0.97572258, 0.4390457 ],\n",
              "       [0.22423193, 0.49606275, 0.17437675, 0.49022997]])"
            ]
          },
          "metadata": {},
          "execution_count": 42
        }
      ]
    },
    {
      "cell_type": "code",
      "source": [
        "array2=np.random.random((4,4))\n",
        "array2"
      ],
      "metadata": {
        "colab": {
          "base_uri": "https://localhost:8080/"
        },
        "id": "XzSCa1qnujoT",
        "outputId": "15dc814e-4068-4d98-da97-03e6dcdf528b"
      },
      "execution_count": 43,
      "outputs": [
        {
          "output_type": "execute_result",
          "data": {
            "text/plain": [
              "array([[0.56324222, 0.75928696, 0.64370366, 0.48989452],\n",
              "       [0.62857726, 0.10331972, 0.41011693, 0.90811154],\n",
              "       [0.82347722, 0.39695491, 0.41404424, 0.42811069],\n",
              "       [0.13858239, 0.89068291, 0.19522472, 0.05230161]])"
            ]
          },
          "metadata": {},
          "execution_count": 43
        }
      ]
    },
    {
      "cell_type": "code",
      "source": [
        "array3=np.random.random((4,4))\n",
        "array3"
      ],
      "metadata": {
        "colab": {
          "base_uri": "https://localhost:8080/"
        },
        "id": "hkLpI4dzuubj",
        "outputId": "d9a3f9a8-85dc-4c9e-b06f-d52e64671aa0"
      },
      "execution_count": 44,
      "outputs": [
        {
          "output_type": "execute_result",
          "data": {
            "text/plain": [
              "array([[0.84409737, 0.14873312, 0.78614944, 0.10913615],\n",
              "       [0.85492453, 0.33461354, 0.12957622, 0.81323174],\n",
              "       [0.86570618, 0.51520155, 0.86678142, 0.6251542 ],\n",
              "       [0.69987959, 0.04284333, 0.94775037, 0.10326525]])"
            ]
          },
          "metadata": {},
          "execution_count": 44
        }
      ]
    },
    {
      "cell_type": "code",
      "source": [
        "#Suma\n",
        "array4=array1+array2+array3\n",
        "array4"
      ],
      "metadata": {
        "colab": {
          "base_uri": "https://localhost:8080/"
        },
        "id": "k1Hl_ygZu-DS",
        "outputId": "3d7d5bc1-4306-4c43-8af8-fa5367557087"
      },
      "execution_count": 45,
      "outputs": [
        {
          "output_type": "execute_result",
          "data": {
            "text/plain": [
              "array([[1.63363618, 1.83516123, 2.26221887, 0.93902259],\n",
              "       [2.27540219, 1.28309052, 1.53721721, 2.54233324],\n",
              "       [2.15364357, 1.20765935, 2.25654824, 1.49231059],\n",
              "       [1.06269391, 1.42958899, 1.31735184, 0.64579683]])"
            ]
          },
          "metadata": {},
          "execution_count": 45
        }
      ]
    },
    {
      "cell_type": "code",
      "source": [
        "#Otra forma de sumar array´s\n",
        "array4=np.add(array1,array2,array3)\n",
        "array4"
      ],
      "metadata": {
        "colab": {
          "base_uri": "https://localhost:8080/"
        },
        "id": "8GUqFg7yvVUC",
        "outputId": "b027bf8c-b11e-437b-872f-51ed24f5e754"
      },
      "execution_count": 46,
      "outputs": [
        {
          "output_type": "execute_result",
          "data": {
            "text/plain": [
              "array([[0.78953881, 1.6864281 , 1.47606943, 0.82988643],\n",
              "       [1.42047766, 0.94847698, 1.40764099, 1.7291015 ],\n",
              "       [1.28793739, 0.6924578 , 1.38976683, 0.86715639],\n",
              "       [0.36281432, 1.38674567, 0.36960147, 0.54253158]])"
            ]
          },
          "metadata": {},
          "execution_count": 46
        }
      ]
    },
    {
      "cell_type": "code",
      "source": [
        "#Resta\n",
        "#array4=array1-array2+array3\n",
        "#array4\n",
        "\n",
        "array4=np.subtract(array1,array2,array3)"
      ],
      "metadata": {
        "id": "Mt3YvC3Hvn5S"
      },
      "execution_count": 57,
      "outputs": []
    },
    {
      "cell_type": "code",
      "source": [
        "#Multiplicacion\n",
        "array4=np.multiply(array1,array2,array3)\n",
        "array4"
      ],
      "metadata": {
        "colab": {
          "base_uri": "https://localhost:8080/"
        },
        "id": "Sp4_FoX2wNJy",
        "outputId": "9e53fbc9-f98e-45ef-d30d-d21097732ae5"
      },
      "execution_count": 49,
      "outputs": [
        {
          "output_type": "execute_result",
          "data": {
            "text/plain": [
              "array([[0.12745979, 0.70396618, 0.53579689, 0.16656018],\n",
              "       [0.49777059, 0.08732141, 0.4091015 , 0.74555046],\n",
              "       [0.38247237, 0.11730132, 0.40399232, 0.18796016],\n",
              "       [0.0310746 , 0.44183462, 0.03404265, 0.02563982]])"
            ]
          },
          "metadata": {},
          "execution_count": 49
        }
      ]
    },
    {
      "cell_type": "code",
      "source": [
        "#Division\n",
        "array4=np.divide(array1,array2,array3)\n",
        "array4"
      ],
      "metadata": {
        "colab": {
          "base_uri": "https://localhost:8080/"
        },
        "id": "9RCeOjs2xOmJ",
        "outputId": "000a8170-8c93-48e2-af14-3e65b5c096b9"
      },
      "execution_count": 59,
      "outputs": [
        {
          "output_type": "execute_result",
          "data": {
            "text/plain": [
              "array([[0.40177489, 1.22106817, 1.29308847, 0.69401045],\n",
              "       [1.25982985, 8.18001873, 2.43229186, 0.90406291],\n",
              "       [0.5640231 , 0.74442434, 2.35656599, 1.02554247],\n",
              "       [1.6180406 , 0.55694652, 0.89321037, 9.3731326 ]])"
            ]
          },
          "metadata": {},
          "execution_count": 59
        }
      ]
    },
    {
      "cell_type": "code",
      "source": [
        "#Exponentes\n",
        "np.exp(array1)"
      ],
      "metadata": {
        "colab": {
          "base_uri": "https://localhost:8080/"
        },
        "id": "Xn_VnNgexwA0",
        "outputId": "4e77fd71-5e69-46f0-dd7b-c39f31961616"
      },
      "execution_count": 60,
      "outputs": [
        {
          "output_type": "execute_result",
          "data": {
            "text/plain": [
              "array([[1.25394751, 2.52727372, 2.29875064, 1.40493623],\n",
              "       [2.20758774, 2.32834394, 2.71155985, 2.27274866],\n",
              "       [1.59115501, 1.34380198, 2.65308359, 1.55122617],\n",
              "       [1.25136122, 1.64224261, 1.190504  , 1.63269164]])"
            ]
          },
          "metadata": {},
          "execution_count": 60
        }
      ]
    },
    {
      "cell_type": "code",
      "source": [
        "#Operadores trigonometricos\n",
        "#Seno\n",
        "np.sin(array1)"
      ],
      "metadata": {
        "colab": {
          "base_uri": "https://localhost:8080/"
        },
        "id": "L2SD3YVhyC0T",
        "outputId": "d1f1b554-6523-4324-8484-53bbcae93710"
      },
      "execution_count": 61,
      "outputs": [
        {
          "output_type": "execute_result",
          "data": {
            "text/plain": [
              "array([[0.22437007, 0.79990754, 0.73952591, 0.33347947],\n",
              "       [0.71168958, 0.74807548, 0.84013065, 0.73182085],\n",
              "       [0.44794023, 0.29122098, 0.82810716, 0.42507586],\n",
              "       [0.22235759, 0.47596657, 0.17349437, 0.47082878]])"
            ]
          },
          "metadata": {},
          "execution_count": 61
        }
      ]
    },
    {
      "cell_type": "code",
      "source": [
        "#Coseno\n",
        "np.cos(array2)"
      ],
      "metadata": {
        "colab": {
          "base_uri": "https://localhost:8080/"
        },
        "id": "8rHMzWNByQJy",
        "outputId": "4c292377-7054-4710-e292-6c5e924b0607"
      },
      "execution_count": 62,
      "outputs": [
        {
          "output_type": "execute_result",
          "data": {
            "text/plain": [
              "array([[0.84552844, 0.72532705, 0.79987845, 0.8823825 ],\n",
              "       [0.80886489, 0.99466726, 0.91707421, 0.6152356 ],\n",
              "       [0.67967474, 0.92224254, 0.91550125, 0.90975172],\n",
              "       [0.99041282, 0.62888121, 0.9810041 , 0.99863258]])"
            ]
          },
          "metadata": {},
          "execution_count": 62
        }
      ]
    },
    {
      "cell_type": "code",
      "source": [
        "#Logaritmos\n",
        "np.log(array3)\n",
        "array3"
      ],
      "metadata": {
        "colab": {
          "base_uri": "https://localhost:8080/"
        },
        "id": "KEXi81Z-zGLS",
        "outputId": "8b98aa42-536c-480e-a4d8-b7c430c5e6ca"
      },
      "execution_count": 66,
      "outputs": [
        {
          "output_type": "stream",
          "name": "stderr",
          "text": [
            "/tmp/ipython-input-66-2175532414.py:2: RuntimeWarning: invalid value encountered in log\n",
            "  np.log(array3)\n"
          ]
        },
        {
          "output_type": "execute_result",
          "data": {
            "text/plain": [
              "array([[-0.33694564,  0.16785418,  0.18866212, -0.1499026 ],\n",
              "       [ 0.16332314,  0.74183754,  0.58740713, -0.08712158],\n",
              "       [-0.35901704, -0.10145201,  0.56167834,  0.010935  ],\n",
              "       [ 0.08564954, -0.39462016, -0.02084798,  0.43792835]])"
            ]
          },
          "metadata": {},
          "execution_count": 66
        }
      ]
    },
    {
      "cell_type": "markdown",
      "source": [
        "**Comparaciones entre matrices**"
      ],
      "metadata": {
        "id": "EViG8h2Oy2yC"
      }
    },
    {
      "cell_type": "code",
      "source": [
        "# ==\n",
        "array1==array2"
      ],
      "metadata": {
        "colab": {
          "base_uri": "https://localhost:8080/"
        },
        "id": "gIqEAFUTy6PD",
        "outputId": "c56d4c3b-e925-4165-bf55-7f03406ddab9"
      },
      "execution_count": 65,
      "outputs": [
        {
          "output_type": "execute_result",
          "data": {
            "text/plain": [
              "array([[False, False, False, False],\n",
              "       [False, False, False, False],\n",
              "       [False, False, False, False],\n",
              "       [False, False, False, False]])"
            ]
          },
          "metadata": {},
          "execution_count": 65
        }
      ]
    },
    {
      "cell_type": "code",
      "source": [
        "# <\n",
        "array1<0.5"
      ],
      "metadata": {
        "colab": {
          "base_uri": "https://localhost:8080/"
        },
        "id": "aIv1Gam9zlLT",
        "outputId": "cdaa8355-e41c-45b1-d596-1afc9f483f5c"
      },
      "execution_count": 68,
      "outputs": [
        {
          "output_type": "execute_result",
          "data": {
            "text/plain": [
              "array([[ True, False, False,  True],\n",
              "       [False, False, False, False],\n",
              "       [ True,  True, False,  True],\n",
              "       [ True,  True,  True,  True]])"
            ]
          },
          "metadata": {},
          "execution_count": 68
        }
      ]
    },
    {
      "cell_type": "code",
      "source": [
        "array2 >= 0.4"
      ],
      "metadata": {
        "colab": {
          "base_uri": "https://localhost:8080/"
        },
        "id": "9Z1US5-MzlrT",
        "outputId": "d8450b97-0cff-40a9-8cc4-b65c369dd10c"
      },
      "execution_count": 70,
      "outputs": [
        {
          "output_type": "execute_result",
          "data": {
            "text/plain": [
              "array([[ True,  True,  True,  True],\n",
              "       [ True, False,  True,  True],\n",
              "       [ True, False,  True,  True],\n",
              "       [False,  True, False, False]])"
            ]
          },
          "metadata": {},
          "execution_count": 70
        }
      ]
    },
    {
      "cell_type": "markdown",
      "source": [
        "**Estadistica y funciones**"
      ],
      "metadata": {
        "id": "OZl4iW77z4zC"
      }
    },
    {
      "cell_type": "code",
      "source": [
        "array6=np.random.random((5,5))\n",
        "array6"
      ],
      "metadata": {
        "colab": {
          "base_uri": "https://localhost:8080/"
        },
        "id": "wJiCd1Hxz7wj",
        "outputId": "8e690d49-5028-4445-c2ae-649caaa35137"
      },
      "execution_count": 71,
      "outputs": [
        {
          "output_type": "execute_result",
          "data": {
            "text/plain": [
              "array([[0.06843397, 0.36653125, 0.59182795, 0.80221601, 0.80196407],\n",
              "       [0.73358042, 0.8417394 , 0.67668648, 0.82980337, 0.73962578],\n",
              "       [0.80385396, 0.56326764, 0.62932439, 0.03071433, 0.18745624],\n",
              "       [0.34687683, 0.11120435, 0.29644598, 0.75680947, 0.09197658],\n",
              "       [0.05523348, 0.07749382, 0.71121048, 0.91753884, 0.71367097]])"
            ]
          },
          "metadata": {},
          "execution_count": 71
        }
      ]
    },
    {
      "cell_type": "code",
      "source": [
        "#Suma de elementos\n",
        "sumatotal=array6.sum()\n",
        "print(sumatotal)"
      ],
      "metadata": {
        "colab": {
          "base_uri": "https://localhost:8080/"
        },
        "id": "DlyxNXEo0orD",
        "outputId": "049ecd14-8ffb-4167-830d-d2a64b01a92d"
      },
      "execution_count": 72,
      "outputs": [
        {
          "output_type": "stream",
          "name": "stdout",
          "text": [
            "12.745486039868261\n"
          ]
        }
      ]
    },
    {
      "cell_type": "code",
      "source": [
        "#Valor minimo-maximo\n",
        "array6.min()\n",
        "array6.max()"
      ],
      "metadata": {
        "colab": {
          "base_uri": "https://localhost:8080/"
        },
        "id": "rna3mqGn1IIz",
        "outputId": "0ac8c204-8b6a-4dd4-9b35-5fa023434324"
      },
      "execution_count": 73,
      "outputs": [
        {
          "output_type": "execute_result",
          "data": {
            "text/plain": [
              "np.float64(0.9175388421032866)"
            ]
          },
          "metadata": {},
          "execution_count": 73
        }
      ]
    },
    {
      "cell_type": "code",
      "source": [
        "#Maximo por fila/columna\n",
        "array6.max(axis=0)"
      ],
      "metadata": {
        "colab": {
          "base_uri": "https://localhost:8080/"
        },
        "id": "tx3RF8oV1StT",
        "outputId": "8ca8e834-0081-4c9b-cd16-ee0e27025b6c"
      },
      "execution_count": 76,
      "outputs": [
        {
          "output_type": "execute_result",
          "data": {
            "text/plain": [
              "array([0.80385396, 0.8417394 , 0.71121048, 0.91753884, 0.80196407])"
            ]
          },
          "metadata": {},
          "execution_count": 76
        }
      ]
    },
    {
      "cell_type": "code",
      "source": [
        "#Fila acumulada\n",
        "array6.cumsum(axis=1)"
      ],
      "metadata": {
        "colab": {
          "base_uri": "https://localhost:8080/"
        },
        "id": "l7i1a9b31q9z",
        "outputId": "6989b8fc-826c-4ac4-a844-01d6175ee625"
      },
      "execution_count": 77,
      "outputs": [
        {
          "output_type": "execute_result",
          "data": {
            "text/plain": [
              "array([[0.06843397, 0.43496522, 1.02679317, 1.82900918, 2.63097325],\n",
              "       [0.73358042, 1.57531982, 2.2520063 , 3.08180967, 3.82143544],\n",
              "       [0.80385396, 1.3671216 , 1.99644599, 2.02716031, 2.21461655],\n",
              "       [0.34687683, 0.45808117, 0.75452715, 1.51133662, 1.6033132 ],\n",
              "       [0.05523348, 0.1327273 , 0.84393778, 1.76147662, 2.47514759]])"
            ]
          },
          "metadata": {},
          "execution_count": 77
        }
      ]
    },
    {
      "cell_type": "code",
      "source": [
        "#Media\n",
        "np.mean(array6)"
      ],
      "metadata": {
        "colab": {
          "base_uri": "https://localhost:8080/"
        },
        "id": "qLd--fyR12Uz",
        "outputId": "6269d7fe-9c79-43c6-a0f4-264b9e7c23d0"
      },
      "execution_count": 78,
      "outputs": [
        {
          "output_type": "execute_result",
          "data": {
            "text/plain": [
              "np.float64(0.5098194415947305)"
            ]
          },
          "metadata": {},
          "execution_count": 78
        }
      ]
    },
    {
      "cell_type": "code",
      "source": [
        "#Mediana\n",
        "np.median(array6)"
      ],
      "metadata": {
        "colab": {
          "base_uri": "https://localhost:8080/"
        },
        "id": "Ynr5VAov2Ahz",
        "outputId": "717e819f-fe1a-46a0-f965-19b8ba9b902b"
      },
      "execution_count": 79,
      "outputs": [
        {
          "output_type": "execute_result",
          "data": {
            "text/plain": [
              "np.float64(0.6293243898552523)"
            ]
          },
          "metadata": {},
          "execution_count": 79
        }
      ]
    },
    {
      "cell_type": "code",
      "source": [
        "#Desviacion standar\n",
        "np.std(array6)"
      ],
      "metadata": {
        "colab": {
          "base_uri": "https://localhost:8080/"
        },
        "id": "oxSBhsfN2JYD",
        "outputId": "8572253c-49c9-44c6-88a9-f67c94c0544e"
      },
      "execution_count": 80,
      "outputs": [
        {
          "output_type": "execute_result",
          "data": {
            "text/plain": [
              "np.float64(0.3021081641254775)"
            ]
          },
          "metadata": {},
          "execution_count": 80
        }
      ]
    }
  ]
}