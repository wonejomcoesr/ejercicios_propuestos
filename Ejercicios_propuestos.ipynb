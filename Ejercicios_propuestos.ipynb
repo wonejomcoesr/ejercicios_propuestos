{
  "nbformat": 4,
  "nbformat_minor": 0,
  "metadata": {
    "colab": {
      "provenance": [],
      "authorship_tag": "ABX9TyPAZbDkCZcV+BrFjLhFyb4L",
      "include_colab_link": true
    },
    "kernelspec": {
      "name": "python3",
      "display_name": "Python 3"
    },
    "language_info": {
      "name": "python"
    }
  },
  "cells": [
    {
      "cell_type": "markdown",
      "metadata": {
        "id": "view-in-github",
        "colab_type": "text"
      },
      "source": [
        "<a href=\"https://colab.research.google.com/github/wonejomcoesr/ejercicios_propuestos/blob/main/Ejercicios_propuestos.ipynb\" target=\"_parent\"><img src=\"https://colab.research.google.com/assets/colab-badge.svg\" alt=\"Open In Colab\"/></a>"
      ]
    },
    {
      "cell_type": "code",
      "source": [
        "import numpy as np"
      ],
      "metadata": {
        "id": "ujRZcsD8JdGn"
      },
      "execution_count": 2,
      "outputs": []
    },
    {
      "cell_type": "markdown",
      "source": [
        "**Ejercicio_01**"
      ],
      "metadata": {
        "id": "Ab22B1dSJGOp"
      }
    },
    {
      "cell_type": "code",
      "execution_count": 3,
      "metadata": {
        "colab": {
          "base_uri": "https://localhost:8080/"
        },
        "id": "o7wO4f2nJE08",
        "outputId": "a50a3825-8751-41b1-dcd2-22267b1a8cde"
      },
      "outputs": [
        {
          "output_type": "stream",
          "name": "stdout",
          "text": [
            "['Matemáticas' 'Física' 'Química' 'Historia' 'Lengua']\n"
          ]
        }
      ],
      "source": [
        "asignaturas = np.array(['Matemáticas', 'Física', 'Química', 'Historia', 'Lengua'])\n",
        "print(asignaturas)"
      ]
    },
    {
      "cell_type": "markdown",
      "source": [
        "**Ejercicio_02**"
      ],
      "metadata": {
        "id": "eFBzxPjEJSGL"
      }
    },
    {
      "cell_type": "code",
      "execution_count": 4,
      "metadata": {
        "colab": {
          "base_uri": "https://localhost:8080/"
        },
        "id": "3BpFNa76JSGM",
        "outputId": "bebeea52-53d1-4e06-9890-d0e84c36d7ed"
      },
      "outputs": [
        {
          "output_type": "stream",
          "name": "stdout",
          "text": [
            "['Yo estudio Matemáticas' 'Yo estudio Física' 'Yo estudio Química'\n",
            " 'Yo estudio Historia' 'Yo estudio Lengua']\n"
          ]
        }
      ],
      "source": [
        "print(\"Yo estudio \" + asignaturas)"
      ]
    },
    {
      "cell_type": "markdown",
      "source": [
        "**Ejercicio_03**"
      ],
      "metadata": {
        "id": "idN59Po-JkIZ"
      }
    },
    {
      "cell_type": "code",
      "execution_count": 6,
      "metadata": {
        "colab": {
          "base_uri": "https://localhost:8080/"
        },
        "outputId": "54388ee9-e920-40ec-e437-1665a0050f76",
        "id": "OJB58IU4JkIa"
      },
      "outputs": [
        {
          "output_type": "stream",
          "name": "stdout",
          "text": [
            "Introduce notas separadas por espacios: 11 16 10.5\n",
            "En Matemáticas has sacado 11.0\n",
            "En Física has sacado 16.0\n",
            "En Química has sacado 10.5\n"
          ]
        }
      ],
      "source": [
        "asignaturas = ['Matemáticas', 'Física', 'Química', 'Historia', 'Lengua']\n",
        "notas = list(map(float, input(\"Introduce notas separadas por espacios: \").split()))\n",
        "print('\\n'.join(f\"En {a} has sacado {n}\" for a, n in zip(asignaturas, notas)))"
      ]
    },
    {
      "cell_type": "markdown",
      "source": [
        "**Ejercicio_04**"
      ],
      "metadata": {
        "id": "weave073MRya"
      }
    },
    {
      "cell_type": "code",
      "execution_count": 7,
      "metadata": {
        "colab": {
          "base_uri": "https://localhost:8080/"
        },
        "outputId": "b789177e-fe55-4618-aad7-14dc0d62d929",
        "id": "fGu4l1FsMRyb"
      },
      "outputs": [
        {
          "output_type": "stream",
          "name": "stdout",
          "text": [
            "Números ganadores separados por espacios: 1 2 3 4 5 6 7 8    9  10\n",
            "[1, 2, 3, 4, 5, 6, 7, 8, 9, 10]\n"
          ]
        }
      ],
      "source": [
        "numeros = list(map(int, input(\"Números ganadores separados por espacios: \").split()))\n",
        "print(sorted(numeros))"
      ]
    },
    {
      "cell_type": "markdown",
      "source": [
        "**Ejercicio_05**"
      ],
      "metadata": {
        "id": "_j3fH2sTMg9P"
      }
    },
    {
      "cell_type": "code",
      "source": [
        "nums = np.arange(1, 11)[::-1]\n",
        "print(\",\".join(nums.astype(str)))"
      ],
      "metadata": {
        "colab": {
          "base_uri": "https://localhost:8080/"
        },
        "id": "K24pFu1qMkBP",
        "outputId": "7e4f3301-4a68-477d-fd48-ea7307d3739e"
      },
      "execution_count": 8,
      "outputs": [
        {
          "output_type": "stream",
          "name": "stdout",
          "text": [
            "10,9,8,7,6,5,4,3,2,1\n"
          ]
        }
      ]
    },
    {
      "cell_type": "markdown",
      "source": [
        "**Ejercicio_06**"
      ],
      "metadata": {
        "id": "fh8PB9ZoMtJq"
      }
    },
    {
      "cell_type": "code",
      "source": [
        "asignaturas = np.array(['Matemáticas', 'Física', 'Química', 'Historia', 'Lengua'])\n",
        "notas = np.array(list(map(float, input(\"Introduce notas separadas por espacios: \").split())))\n",
        "repetir = asignaturas[notas < 5]\n",
        "print(\"Asignaturas para repetir:\", repetir)"
      ],
      "metadata": {
        "colab": {
          "base_uri": "https://localhost:8080/"
        },
        "id": "RSs4hApqMtJr",
        "outputId": "f56a3bee-595f-4acc-c1e8-bcf6dca0d12c"
      },
      "execution_count": 21,
      "outputs": [
        {
          "output_type": "stream",
          "name": "stdout",
          "text": [
            "Introduce notas separadas por espacios: 8 16 20 0 0\n",
            "Asignaturas para repetir: ['Historia' 'Lengua']\n"
          ]
        }
      ]
    },
    {
      "cell_type": "markdown",
      "source": [
        "**Ejercicio_07**"
      ],
      "metadata": {
        "id": "EWp31EeNMuC6"
      }
    },
    {
      "cell_type": "code",
      "source": [
        "abecedario = np.array(list(string.ascii_lowercase))\n",
        "resultado = abecedario[np.mod(np.arange(len(abecedario)), 3) != 0]\n",
        "print(resultado)"
      ],
      "metadata": {
        "colab": {
          "base_uri": "https://localhost:8080/"
        },
        "id": "PBcKQC2GMuC6",
        "outputId": "3573cbf1-6e9c-4f72-f0c5-e358cffb9a16"
      },
      "execution_count": 13,
      "outputs": [
        {
          "output_type": "stream",
          "name": "stdout",
          "text": [
            "['b' 'c' 'e' 'f' 'h' 'i' 'k' 'l' 'n' 'o' 'q' 'r' 't' 'u' 'w' 'x' 'z']\n"
          ]
        }
      ]
    },
    {
      "cell_type": "markdown",
      "source": [
        "**Ejercicio_08**"
      ],
      "metadata": {
        "id": "rCEB_YMjMuuq"
      }
    },
    {
      "cell_type": "code",
      "source": [
        "palabra = input(\"Introduce una palabra: \").lower()\n",
        "es_palindromo = palabra == palabra[::-1]\n",
        "print(\"Es un palíndromo\" if es_palindromo else \"No es un palíndromo\")"
      ],
      "metadata": {
        "colab": {
          "base_uri": "https://localhost:8080/"
        },
        "id": "0zFqWWgGMuur",
        "outputId": "30aedfe9-3edb-47ca-d63a-e078d1277ff4"
      },
      "execution_count": 14,
      "outputs": [
        {
          "output_type": "stream",
          "name": "stdout",
          "text": [
            "Introduce una palabra: wonejo\n",
            "No es un palíndromo\n"
          ]
        }
      ]
    },
    {
      "cell_type": "markdown",
      "source": [
        "**Ejercicio_09**"
      ],
      "metadata": {
        "id": "Ps9YGQUsMu7K"
      }
    },
    {
      "cell_type": "code",
      "source": [
        "palabra = input(\"Introduce una palabra: \").lower()\n",
        "vocales = np.array(list('aeiou'))\n",
        "\n",
        "letras = np.array(list(palabra))\n",
        "contador = np.array([np.sum(letras == v) for v in vocales])\n",
        "\n",
        "for v, c in zip(vocales, contador):\n",
        "    print(f\"La vocal '{v}' aparece {c} veces.\")"
      ],
      "metadata": {
        "colab": {
          "base_uri": "https://localhost:8080/"
        },
        "id": "gJWoTNECMu7L",
        "outputId": "762261eb-3539-4913-9e71-3809969ffc5d"
      },
      "execution_count": 15,
      "outputs": [
        {
          "output_type": "stream",
          "name": "stdout",
          "text": [
            "Introduce una palabra: Taumatawhakatangihangakoauauotamateaturipukakapikimaungahoronukupokaiwhenuakitanatahu\n",
            "La vocal 'a' aparece 22 veces.\n",
            "La vocal 'e' aparece 2 veces.\n",
            "La vocal 'i' aparece 6 veces.\n",
            "La vocal 'o' aparece 5 veces.\n",
            "La vocal 'u' aparece 10 veces.\n"
          ]
        }
      ]
    },
    {
      "cell_type": "markdown",
      "source": [
        "**Ejercicio_10**"
      ],
      "metadata": {
        "id": "J9aGVyKQMvJI"
      }
    },
    {
      "cell_type": "code",
      "source": [
        "precios = np.array([50, 75, 46, 22, 80, 65, 8])\n",
        "print(\"Precio menor:\", np.min(precios))\n",
        "print(\"Precio mayor:\", np.max(precios))"
      ],
      "metadata": {
        "colab": {
          "base_uri": "https://localhost:8080/"
        },
        "id": "W4UpDPdOMvJI",
        "outputId": "61e126e4-6baf-4e3a-be6d-138b7fb8adc5"
      },
      "execution_count": 16,
      "outputs": [
        {
          "output_type": "stream",
          "name": "stdout",
          "text": [
            "Precio menor: 8\n",
            "Precio mayor: 80\n"
          ]
        }
      ]
    },
    {
      "cell_type": "markdown",
      "source": [
        "**Ejercicio_11**"
      ],
      "metadata": {
        "id": "k0bz5kfVMvX5"
      }
    },
    {
      "cell_type": "code",
      "source": [
        "v1 = np.array([1, 2, 3])\n",
        "v2 = np.array([-1, 0, 2])\n",
        "producto = np.dot(v1, v2)\n",
        "print(\"Producto escalar:\", producto)"
      ],
      "metadata": {
        "colab": {
          "base_uri": "https://localhost:8080/"
        },
        "id": "H_LZhnxmMvX6",
        "outputId": "af1db9fb-72dc-4be2-9209-5ea334a4a61a"
      },
      "execution_count": 17,
      "outputs": [
        {
          "output_type": "stream",
          "name": "stdout",
          "text": [
            "Producto escalar: 5\n"
          ]
        }
      ]
    },
    {
      "cell_type": "markdown",
      "source": [
        "**Ejercicio_12**"
      ],
      "metadata": {
        "id": "qGAPM9tUMviJ"
      }
    },
    {
      "cell_type": "code",
      "source": [
        "A = np.array([[1, 2],\n",
        "              [3, 4]])\n",
        "B = np.array([[5, 6],\n",
        "              [7, 8]])\n",
        "print(np.dot(A, B))"
      ],
      "metadata": {
        "colab": {
          "base_uri": "https://localhost:8080/"
        },
        "id": "N51jKQ9RMviL",
        "outputId": "8030b643-9da9-4d46-ece6-176dc6243d7c"
      },
      "execution_count": 18,
      "outputs": [
        {
          "output_type": "stream",
          "name": "stdout",
          "text": [
            "[[19 22]\n",
            " [43 50]]\n"
          ]
        }
      ]
    },
    {
      "cell_type": "markdown",
      "source": [
        "**Ejercicio_13**"
      ],
      "metadata": {
        "id": "EFzB9a5_Mvrq"
      }
    },
    {
      "cell_type": "code",
      "source": [
        "nums = np.array([float(x) for x in input(\"Introduce números separados por comas: \").split(',')])\n",
        "media = np.mean(nums)\n",
        "desviacion = np.std(nums)\n",
        "print(\"Media:\", media)\n",
        "print(\"Desviación típica:\", desviacion)"
      ],
      "metadata": {
        "colab": {
          "base_uri": "https://localhost:8080/"
        },
        "id": "c3xUvAbpMvrr",
        "outputId": "6913ff24-f2e8-479f-9fed-0cc64a3eefa3"
      },
      "execution_count": 19,
      "outputs": [
        {
          "output_type": "stream",
          "name": "stdout",
          "text": [
            "Introduce números separados por comas: 1,2,3,4,5,6,7,8,9\n",
            "Media: 5.0\n",
            "Desviación típica: 2.581988897471611\n"
          ]
        }
      ]
    }
  ]
}